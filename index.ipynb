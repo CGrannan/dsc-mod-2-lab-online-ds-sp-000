{
 "cells": [
  {
   "cell_type": "markdown",
   "metadata": {},
   "source": [
    "# Module 2 Summative Lab\n",
    "\n",
    "## Introduction\n",
    "\n",
    "For today's section, we're going to work on a single big lab to apply everything we've learned in Module 2!\n",
    "\n",
    "## About This Lab\n",
    "\n",
    "A quick note before getting started--this lab isn't like other labs you seen so far. This lab is meant to take ~8 hours to complete, so it's much longer and more challenging that the average labs you've seen so far. If you feel like this lab is challenging or that you might be struggling a bit, don't fret--that's by design! With everything we've learned about Web Scraping, APIs, and Databases, the best way to test our knowledge of it is to build something substantial! \n",
    "\n",
    "## The Project\n",
    "\n",
    "In this lab, we're going to make use of everything we've learned about APIs, databases, and Object-Oriented Programming to **_Extract, Transform, and Load_** (or **_ETL_**, for short) some data from a SQL database into a MongoDB Database. \n",
    "\n",
    "You'll find a database containing information about soccer teams and the matches they've played in the file `database.sqlite`. For this project, our goal is to get the data we think is important from this SQL database, do some calculations and data transformation, and then store everything in a MongoDB database. \n",
    "\n",
    "Let's get into the specifics of this project.\n",
    "\n",
    "### The Goal\n",
    "\n",
    "Start by examining the data dictionary for the SQL database we'll be working with, which comes from this [kaggle page](https://www.kaggle.com/laudanum/footballdelphi).  Familiarize yourself with the tables it contains, and what each column means. We'll be using this database to get data on each soccer team, calculate some summary statistics, and then store each in a MongoDB database. \n",
    "\n",
    "Upon completion of this lab, each unique team in this dataset should have a record in the MongoDB instance containing the following information:\n",
    "\n",
    "* The name of the team\n",
    "* The total number of goals scored by the team during the 2011 season\n",
    "* The total number of wins the team earned during the 2011 season\n",
    "* A histogram visualization of the team's wins and losses for the 2011 season (store the visualization directly)\n",
    "* The team's win percentage on days where it was raining during games in the 2011 season. \n",
    "\n",
    "#### Getting the Weather Data\n",
    "\n",
    "Note that for this last calculation, you'll need to figure out if it was raining or not during the game. The database itself does not contain this information, but it does contain the date on which the game was played. For this, you'll need to use the [DarkSky API](https://darksky.net/dev) to get the historical weather data for that day. Note that each game is played in a different location, and this information is not contained in our SQL database. However, the teams in this database are largely german, so go ahead and just use the weather in Berlin, Germany as a proxy for this information. If it was raining in Berlin on the day the game was played, count that as rain game--**_you do not need to try and figure out the actual weather at each game's location, because we don't have that information!_**\n",
    "\n",
    "#### NOTE: The DarkSky API is limited to 1000 free API calls a day, so be sure to test your model on very small samples. Otherwise, you'll hit the rate limit!\n",
    "\n",
    "## Project Architecture\n",
    "\n",
    "Unlike previous labs, this lab is more open-ended, and will require you to make design decisions and plan out your strategy for building a system with this many working parts. However, **_using Object-Oriented Programming is a requirement for this project--you must create at least 2 separate, well structured classes in your solution!_** Although it may seem easier to \"just start coding\", this is a classic beginner's mistake. Instead, think about separating out the different functionalities you'll need to reach your goal, and then build classes to handle each. For instance, at minimum, you'll need to:\n",
    "\n",
    "* Query the SQL database\n",
    "* Calculate summary statistics\n",
    "* Get the weather data from the DarkSky API\n",
    "* Load the data into MongoDB\n",
    "\n",
    "We **_strongly recommend_** you consider creating separate classes for handling at least some of these of these tasks.  Be sure to plan the inputs, outputs, and methods for each class before you begin coding! \n",
    "\n",
    "**_NOTE:_** We have provided some empty classes below. You are welcome to delete them and use a different architecture for this project if you so choose.  You do not have to use each of them, they are just there to give you an idea of what you could sorts of classes you may want to consider using.\n",
    "\n",
    "### Rapid Prototyping and Refactoring\n",
    "\n",
    "It's totally okay to try to get a task working without using OOP. For instance, when experimenting with the DarkSky API for getting historical weather data, it makes sense to just write the code in the cells and rapidly iterate until you get it all working. However, once you get it working, you're not done--you should then **_Refactor_** your code into functions or classes to make your code more modular, reusable, understandable, and maintainable! \n",
    "\n",
    "In short--do what you need to do to get each separate piece of functionality working, and then refactor it into a class after you've figured it out!\n",
    "\n",
    "### Some Final Advice\n",
    "\n",
    "You haven't built anything this big or complex thus far, so you may not yet fully realize how much trial and error goes into it. If your code keeps breaking, resist the urge to get frustrated, and just keep working. Software development is an iterative process!  No one writes perfect code that works the first time for something this involved. You're going to run into _a lot_ of small errors in this project, right up until the point where it just works, and then you're done! However, you can reduce these errors by planning out your code, and thinking about how all of the pieces fit together before you begin coding. Once you have some basic understanding of how it all will work, then you'll know what you need to build, and then all that is left is to build it!\n",
    "\n",
    "In short:\n",
    "\n",
    "* Plan ahead--you'll thank yourself later!\n",
    "* Errors and broken code aren't bad, they're normal. \n",
    "* Keep working, and stay confident--you can do this!\n",
    "\n",
    "Good luck--we look forward to seeing your completed project!"
   ]
  },
  {
   "cell_type": "markdown",
   "metadata": {},
   "source": [
    "## Installing Libraries"
   ]
  },
  {
   "cell_type": "code",
   "execution_count": 1,
   "metadata": {},
   "outputs": [],
   "source": [
    "import pandas as pd\n",
    "import numpy as np\n",
    "import sqlite3\n",
    "import pymongo\n",
    "import matplotlib.pyplot as plt\n",
    "%matplotlib inline\n",
    "import requests\n",
    "from bs4 import BeautifulSoup\n",
    "import json\n",
    "\n",
    "conn = sqlite3.connect('database.sqlite')\n",
    "c = conn.cursor()"
   ]
  },
  {
   "cell_type": "markdown",
   "metadata": {},
   "source": [
    "## Finding Distinct Team Names"
   ]
  },
  {
   "cell_type": "code",
   "execution_count": 2,
   "metadata": {},
   "outputs": [
    {
     "data": {
      "text/plain": [
       "(['Bayern Munich',\n",
       "  'Dortmund',\n",
       "  'Leverkusen',\n",
       "  'RB Leipzig',\n",
       "  'Schalke 04',\n",
       "  \"M'gladbach\",\n",
       "  'Wolfsburg',\n",
       "  'FC Koln',\n",
       "  'Hoffenheim',\n",
       "  'Hertha',\n",
       "  'Mainz',\n",
       "  'Hamburg',\n",
       "  'Werder Bremen',\n",
       "  'Ein Frankfurt',\n",
       "  'Augsburg',\n",
       "  'Freiburg',\n",
       "  'Stuttgart',\n",
       "  'Hannover',\n",
       "  'Ingolstadt',\n",
       "  'Darmstadt',\n",
       "  'Paderborn',\n",
       "  'Nurnberg',\n",
       "  'Braunschweig',\n",
       "  'Greuther Furth',\n",
       "  'Fortuna Dusseldorf',\n",
       "  'Kaiserslautern',\n",
       "  'St Pauli',\n",
       "  'Bochum',\n",
       "  'Karlsruhe',\n",
       "  'Bielefeld',\n",
       "  'Cottbus',\n",
       "  'Duisburg',\n",
       "  'Hansa Rostock',\n",
       "  'Aachen',\n",
       "  'Union Berlin',\n",
       "  'Heidenheim',\n",
       "  'Dresden',\n",
       "  'Sandhausen',\n",
       "  'Erzgebirge Aue',\n",
       "  'Kiel',\n",
       "  'Regensburg',\n",
       "  'Munich 1860',\n",
       "  'Wurzburger Kickers',\n",
       "  'Frankfurt FSV',\n",
       "  'Aalen',\n",
       "  'Oberhausen',\n",
       "  'Osnabruck',\n",
       "  'Koblenz',\n",
       "  'Ahlen',\n",
       "  'Wehen',\n",
       "  'CZ Jena',\n",
       "  'Offenbach',\n",
       "  'Essen',\n",
       "  'Burghausen',\n",
       "  'Unterhaching',\n",
       "  'Saarbrucken',\n",
       "  'Siegen',\n",
       "  'Babelsberg',\n",
       "  'Chemnitz',\n",
       "  'Ein Trier',\n",
       "  'Erfurt',\n",
       "  'F Koln',\n",
       "  'Gutersloh',\n",
       "  'Homburg',\n",
       "  'Leipzig',\n",
       "  'Lubeck',\n",
       "  'Mannheim',\n",
       "  'Meppen',\n",
       "  'Oldenburg',\n",
       "  'Reutlingen',\n",
       "  'Schweinfurt',\n",
       "  'Stuttgarter K',\n",
       "  'TB Berlin',\n",
       "  'Uerdingen',\n",
       "  'Ulm',\n",
       "  'Wattenscheid',\n",
       "  'Wuppertaler',\n",
       "  'Zwickau',\n",
       "  'RW Essen',\n",
       "  \"M'Gladbach\",\n",
       "  'Arsenal',\n",
       "  'Aston Villa',\n",
       "  'Chelsea',\n",
       "  'Liverpool',\n",
       "  'Man City',\n",
       "  'Newcastle',\n",
       "  'Oldham',\n",
       "  'Sheffield United',\n",
       "  'Southampton',\n",
       "  'West Ham',\n",
       "  'Norwich',\n",
       "  'Tottenham',\n",
       "  'Everton',\n",
       "  'Ipswich',\n",
       "  'Leeds',\n",
       "  'Wimbledon',\n",
       "  'Blackburn',\n",
       "  'Coventry',\n",
       "  'Man United',\n",
       "  'QPR',\n",
       "  'Sheffield Weds',\n",
       "  'Swindon',\n",
       "  'Crystal Palace',\n",
       "  'Leicester',\n",
       "  \"Nott'm Forest\",\n",
       "  'Bolton',\n",
       "  'Middlesbrough',\n",
       "  'Derby',\n",
       "  'Sunderland',\n",
       "  'Barnsley',\n",
       "  'Charlton',\n",
       "  'Watford',\n",
       "  'Bradford',\n",
       "  'Fulham',\n",
       "  'Birmingham',\n",
       "  'Middlesboro',\n",
       "  'West Brom',\n",
       "  'Portsmouth',\n",
       "  'Wolves',\n",
       "  'Wigan',\n",
       "  'Reading',\n",
       "  'Hull',\n",
       "  'Stoke',\n",
       "  'Burnley',\n",
       "  'Blackpool',\n",
       "  'Swansea',\n",
       "  'Cardiff',\n",
       "  'Bournemouth'],\n",
       " 128)"
      ]
     },
     "execution_count": 2,
     "metadata": {},
     "output_type": "execute_result"
    }
   ],
   "source": [
    "c.execute(\"\"\"Select DISTINCT TeamName from Unique_Teams\"\"\")\n",
    "teams = c.fetchall()\n",
    "team_names = []\n",
    "for team in teams:\n",
    "    team_names.append(team[0])\n",
    "team_names, len(team_names)"
   ]
  },
  {
   "cell_type": "markdown",
   "metadata": {},
   "source": [
    "## Finding the Number of Goals for Each Team in 2011"
   ]
  },
  {
   "cell_type": "code",
   "execution_count": 3,
   "metadata": {},
   "outputs": [
    {
     "data": {
      "text/plain": [
       "(128, 2796)"
      ]
     },
     "execution_count": 3,
     "metadata": {},
     "output_type": "execute_result"
    }
   ],
   "source": [
    "team_goals = {}\n",
    "for team in team_names:\n",
    "    goals = 0\n",
    "    c.execute(\"\"\"select SUM(FTHG)\n",
    "                 from Matches\n",
    "                 where HomeTeam = \"{}\" and Season = '2011'\"\"\".format(team))\n",
    "    try:\n",
    "        goals += c.fetchall()[0][0]\n",
    "    except:\n",
    "        pass\n",
    "    c.execute(\"\"\"select SUM(FTAG)\n",
    "                 from Matches\n",
    "                 where AwayTeam = \"{}\" and Season = '2011'\"\"\".format(team))\n",
    "    try:\n",
    "        goals += c.fetchall()[0][0]\n",
    "    except:\n",
    "        pass\n",
    "    team_goals[team] = goals\n",
    "len(team_goals.values()), sum(team_goals.values())"
   ]
  },
  {
   "cell_type": "markdown",
   "metadata": {},
   "source": [
    "## Finding the Game Wins and Game Losses for Each Team in 2011"
   ]
  },
  {
   "cell_type": "code",
   "execution_count": 4,
   "metadata": {
    "scrolled": false
   },
   "outputs": [
    {
     "data": {
      "text/plain": [
       "['2012-01-21',\n",
       " '2012-02-10',\n",
       " '2012-03-23',\n",
       " '2011-09-24',\n",
       " '2012-03-10',\n",
       " '2011-10-15',\n",
       " '2011-09-11',\n",
       " '2011-12-17',\n",
       " '2012-04-28',\n",
       " '2011-11-19',\n",
       " '2011-08-06',\n",
       " '2012-03-31',\n",
       " '2012-03-17']"
      ]
     },
     "execution_count": 4,
     "metadata": {},
     "output_type": "execute_result"
    }
   ],
   "source": [
    "team_wins = {}\n",
    "for team in team_names:\n",
    "    wins = []\n",
    "    c.execute(\"\"\"select Date \n",
    "                 from Matches\n",
    "                 where HomeTeam = \"{}\" and FTR = 'H' and Season = '2011'\"\"\".format(team))\n",
    "    matches = c.fetchall()\n",
    "    for match in matches:\n",
    "        wins.append(match[0])\n",
    "    c.execute(\"\"\"select Date \n",
    "                 from Matches\n",
    "                 where AwayTeam = \"{}\" and FTR = 'A' and Season = '2011'\"\"\".format(team))\n",
    "    matches = c.fetchall()\n",
    "    for match in matches:\n",
    "        wins.append(match[0])\n",
    "    team_wins[team] = wins\n",
    "team_wins['Wolfsburg']"
   ]
  },
  {
   "cell_type": "code",
   "execution_count": 5,
   "metadata": {},
   "outputs": [
    {
     "data": {
      "text/plain": [
       "16"
      ]
     },
     "execution_count": 5,
     "metadata": {},
     "output_type": "execute_result"
    }
   ],
   "source": [
    "team_losses = {}\n",
    "for team in team_names:\n",
    "    losses = []\n",
    "    c.execute(\"\"\"select * \n",
    "                 from Matches\n",
    "                 where HomeTeam = \"{}\" and FTR = 'A' and Season = '2011'\"\"\".format(team))\n",
    "    matches = c.fetchall()\n",
    "    for match in matches:\n",
    "        losses.append(match)\n",
    "    c.execute(\"\"\"select * \n",
    "                 from Matches\n",
    "                 where AwayTeam = \"{}\" and FTR = 'H' and Season = '2011'\"\"\".format(team))\n",
    "    matches = c.fetchall()\n",
    "    for match in matches:\n",
    "        losses.append(match)\n",
    "    team_losses[team] = len(losses)\n",
    "team_losses['Wolfsburg']"
   ]
  },
  {
   "cell_type": "code",
   "execution_count": 6,
   "metadata": {},
   "outputs": [],
   "source": [
    "# Here is a function to return a histogram on wins and losses for a team\n",
    "def get_hist(team, show=False):\n",
    "    team_data = []\n",
    "    for i in team_wins[team]:\n",
    "        team_data.append('Wins')\n",
    "    for i in range(team_losses[team]):\n",
    "        team_data.append('Losses')\n",
    "    if team_data == []:\n",
    "        return None\n",
    "    else:\n",
    "        fig = plt.hist(team_data)\n",
    "        if show:\n",
    "            plt.show()\n",
    "        return fig"
   ]
  },
  {
   "cell_type": "code",
   "execution_count": 7,
   "metadata": {
    "scrolled": true
   },
   "outputs": [
    {
     "data": {
      "image/png": "[encoded data removed]",
      "text/plain": [
       "<Figure size 432x288 with 1 Axes>"
      ]
     },
     "metadata": {
      "needs_background": "light"
     },
     "output_type": "display_data"
    },
    {
     "data": {
      "text/plain": [
       "(array([13.,  0.,  0.,  0.,  0.,  0.,  0.,  0.,  0., 16.]),\n",
       " array([0. , 0.1, 0.2, 0.3, 0.4, 0.5, 0.6, 0.7, 0.8, 0.9, 1. ]),\n",
       " <a list of 10 Patch objects>)"
      ]
     },
     "execution_count": 7,
     "metadata": {},
     "output_type": "execute_result"
    }
   ],
   "source": [
    "get_hist('Wolfsburg', show=True)"
   ]
  },
  {
   "cell_type": "markdown",
   "metadata": {},
   "source": [
    "## Get a List of Distinct Match Dates and Determine Rain Dates"
   ]
  },
  {
   "cell_type": "code",
   "execution_count": 8,
   "metadata": {
    "scrolled": true
   },
   "outputs": [
    {
     "data": {
      "text/plain": [
       "(['2012-03-31',\n",
       "  '2011-12-11',\n",
       "  '2011-08-13',\n",
       "  '2011-11-27',\n",
       "  '2012-02-18',\n",
       "  '2012-01-20',\n",
       "  '2012-02-04',\n",
       "  '2012-04-21',\n",
       "  '2011-09-18',\n",
       "  '2011-10-23',\n",
       "  '2011-10-01',\n",
       "  '2012-03-03',\n",
       "  '2011-08-27',\n",
       "  '2012-03-17',\n",
       "  '2011-11-06',\n",
       "  '2012-05-05',\n",
       "  '2012-04-11',\n",
       "  '2011-12-17',\n",
       "  '2012-02-03',\n",
       "  '2011-10-29',\n",
       "  '2012-01-22',\n",
       "  '2011-12-03',\n",
       "  '2012-04-14',\n",
       "  '2012-03-25',\n",
       "  '2012-03-10',\n",
       "  '2012-04-07',\n",
       "  '2011-11-19',\n",
       "  '2011-10-14',\n",
       "  '2011-09-24',\n",
       "  '2012-04-28',\n",
       "  '2011-12-18',\n",
       "  '2012-03-02',\n",
       "  '2012-03-16',\n",
       "  '2012-02-17',\n",
       "  '2011-08-06',\n",
       "  '2011-11-04',\n",
       "  '2011-09-16',\n",
       "  '2011-07-15',\n",
       "  '2012-05-06',\n",
       "  '2012-02-11',\n",
       "  '2011-10-02',\n",
       "  '2012-03-30',\n",
       "  '2011-10-22',\n",
       "  '2011-08-26',\n",
       "  '2011-08-07',\n",
       "  '2012-02-24',\n",
       "  '2011-07-17',\n",
       "  '2012-02-12',\n",
       "  '2011-08-22',\n",
       "  '2011-09-09',\n",
       "  '2012-04-01',\n",
       "  '2011-09-25',\n",
       "  '2012-04-20',\n",
       "  '2011-11-25',\n",
       "  '2012-03-09',\n",
       "  '2011-11-07',\n",
       "  '2011-09-10',\n",
       "  '2011-08-21',\n",
       "  '2011-09-26',\n",
       "  '2012-03-26',\n",
       "  '2011-10-30',\n",
       "  '2012-02-13',\n",
       "  '2012-02-26',\n",
       "  '2011-12-19',\n",
       "  '2012-03-11',\n",
       "  '2011-11-26',\n",
       "  '2012-04-23',\n",
       "  '2011-12-16',\n",
       "  '2011-11-05',\n",
       "  '2012-04-10',\n",
       "  '2012-04-15',\n",
       "  '2012-02-05',\n",
       "  '2012-03-04',\n",
       "  '2011-09-17',\n",
       "  '2012-01-21',\n",
       "  '2012-03-18',\n",
       "  '2012-04-22',\n",
       "  '2011-08-20',\n",
       "  '2012-02-10',\n",
       "  '2012-02-25',\n",
       "  '2011-12-10',\n",
       "  '2012-01-29',\n",
       "  '2011-10-16',\n",
       "  '2011-08-05',\n",
       "  '2012-03-23',\n",
       "  '2011-09-23',\n",
       "  '2012-01-28',\n",
       "  '2011-10-15',\n",
       "  '2012-03-24',\n",
       "  '2011-11-18',\n",
       "  '2012-04-29',\n",
       "  '2011-12-09',\n",
       "  '2012-04-08',\n",
       "  '2012-03-12',\n",
       "  '2011-07-23',\n",
       "  '2011-10-28',\n",
       "  '2012-01-27',\n",
       "  '2011-12-04',\n",
       "  '2011-09-11',\n",
       "  '2011-09-30',\n",
       "  '2012-02-19',\n",
       "  '2012-04-13',\n",
       "  '2011-10-21',\n",
       "  '2011-08-14',\n",
       "  '2011-09-12',\n",
       "  '2011-07-18',\n",
       "  '2011-08-08',\n",
       "  '2011-07-24',\n",
       "  '2011-12-13',\n",
       "  '2011-08-28',\n",
       "  '2011-08-19',\n",
       "  '2012-03-14',\n",
       "  '2011-08-12',\n",
       "  '2012-03-05',\n",
       "  '2011-12-02',\n",
       "  '2011-09-19',\n",
       "  '2011-07-25',\n",
       "  '2012-04-02',\n",
       "  '2012-02-06',\n",
       "  '2011-11-21',\n",
       "  '2011-07-22',\n",
       "  '2011-08-29',\n",
       "  '2012-04-05',\n",
       "  '2011-11-28',\n",
       "  '2011-12-12',\n",
       "  '2011-11-20',\n",
       "  '2012-02-27',\n",
       "  '2011-07-16',\n",
       "  '2011-10-31',\n",
       "  '2012-02-20',\n",
       "  '2011-10-17',\n",
       "  '2011-12-05',\n",
       "  '2012-04-16',\n",
       "  '2011-10-03',\n",
       "  '2012-03-19',\n",
       "  '2011-08-15',\n",
       "  '2011-12-20',\n",
       "  '2011-12-21',\n",
       "  '2011-12-22',\n",
       "  '2011-12-26',\n",
       "  '2011-12-27',\n",
       "  '2011-12-30',\n",
       "  '2011-12-31',\n",
       "  '2012-01-01',\n",
       "  '2012-01-02',\n",
       "  '2012-01-03',\n",
       "  '2012-01-04',\n",
       "  '2012-01-11',\n",
       "  '2012-01-14',\n",
       "  '2012-01-15',\n",
       "  '2012-01-16',\n",
       "  '2012-01-31',\n",
       "  '2012-02-01',\n",
       "  '2012-03-13',\n",
       "  '2012-03-20',\n",
       "  '2012-03-21',\n",
       "  '2012-04-06',\n",
       "  '2012-04-09',\n",
       "  '2012-04-24',\n",
       "  '2012-04-30',\n",
       "  '2012-05-01',\n",
       "  '2012-05-02',\n",
       "  '2012-05-07',\n",
       "  '2012-05-08',\n",
       "  '2012-05-13'],\n",
       " 165)"
      ]
     },
     "execution_count": 8,
     "metadata": {},
     "output_type": "execute_result"
    }
   ],
   "source": [
    "dates = []\n",
    "c.execute(\"\"\"select DISTINCT Date \n",
    "             from matches\n",
    "             where Season = '2011'\"\"\")\n",
    "matches = c.fetchall()\n",
    "for date in matches:\n",
    "    dates.append(date[0])\n",
    "dates, len(dates)"
   ]
  },
  {
   "cell_type": "code",
   "execution_count": 9,
   "metadata": {},
   "outputs": [],
   "source": [
    "# Here I define a function to retrieve an API key and use that key to scrape weather data for each distinct date.\n",
    "def get_keys(path):\n",
    "    with open(path) as f:\n",
    "        return json.load(f)\n",
    "keys = get_keys('/Users/rlathbury/.secret/dark_sky_api.json')\n",
    "api_key = keys[\"api_key\"]\n",
    "\n",
    "class WeatherGetter(object):\n",
    "    def __init__(self):\n",
    "        self.key = api_key\n",
    "        self.lat = '52.5200'\n",
    "        self.long = '13.4050'\n",
    "        self.url = 'https://api.darksky.net/forecast'\n",
    "        self.exclude = '?exclude=currently,minutely,hourly,alerts,flags'\n",
    "    \n",
    "    def get_rain_days(self, lst):\n",
    "        rain_days = []\n",
    "        for i in lst:\n",
    "            time = \"{}T12:00:00\".format(i)\n",
    "            response = requests.get(\"{}/{}/{},{},{}{}\".format(self.url, self.key, self.lat, self.long, time, self.exclude))\n",
    "            if response.status_code != 200:\n",
    "                raise ValueError(\"{}\".format(response.status_code))\n",
    "            else:\n",
    "                weather = json.loads(response.text)\n",
    "                daily = weather['daily']\n",
    "                data = daily['data']\n",
    "                data = data[0]\n",
    "                if data['icon'] == 'rain':\n",
    "                    rain_days.append(i)\n",
    "        return rain_days"
   ]
  },
  {
   "cell_type": "code",
   "execution_count": 10,
   "metadata": {
    "scrolled": true
   },
   "outputs": [
    {
     "data": {
      "text/plain": [
       "['2012-03-31',\n",
       " '2012-01-20',\n",
       " '2011-09-18',\n",
       " '2011-10-23',\n",
       " '2011-08-27',\n",
       " '2011-11-06',\n",
       " '2012-05-05',\n",
       " '2011-12-17',\n",
       " '2012-01-22',\n",
       " '2011-12-03',\n",
       " '2011-12-18',\n",
       " '2012-02-17',\n",
       " '2011-08-06',\n",
       " '2012-05-06',\n",
       " '2011-08-26',\n",
       " '2011-08-07',\n",
       " '2012-02-24',\n",
       " '2011-07-17',\n",
       " '2011-09-09',\n",
       " '2011-11-25',\n",
       " '2011-09-10',\n",
       " '2011-10-30',\n",
       " '2011-11-26',\n",
       " '2011-12-16',\n",
       " '2011-11-05',\n",
       " '2011-12-10',\n",
       " '2011-10-16',\n",
       " '2011-08-05',\n",
       " '2011-11-18',\n",
       " '2011-12-09',\n",
       " '2012-03-12',\n",
       " '2011-07-23',\n",
       " '2011-09-11',\n",
       " '2012-02-19',\n",
       " '2011-08-14',\n",
       " '2011-09-12',\n",
       " '2011-07-18',\n",
       " '2011-08-08',\n",
       " '2011-12-13',\n",
       " '2011-08-19',\n",
       " '2011-08-12',\n",
       " '2011-12-02',\n",
       " '2011-09-19',\n",
       " '2012-04-02',\n",
       " '2011-07-22',\n",
       " '2011-08-29',\n",
       " '2011-12-12',\n",
       " '2012-02-27',\n",
       " '2011-08-15',\n",
       " '2011-12-21',\n",
       " '2011-12-26',\n",
       " '2011-12-30',\n",
       " '2012-01-01',\n",
       " '2012-01-02',\n",
       " '2012-01-03',\n",
       " '2012-01-04',\n",
       " '2012-01-16',\n",
       " '2012-04-24']"
      ]
     },
     "execution_count": 10,
     "metadata": {},
     "output_type": "execute_result"
    }
   ],
   "source": [
    "wg = WeatherGetter()\n",
    "rain_dates = wg.get_rain_days(dates)\n",
    "rain_dates"
   ]
  },
  {
   "cell_type": "markdown",
   "metadata": {},
   "source": [
    "## Use Rain Dates to Determine Rain Win Percent for Each Team"
   ]
  },
  {
   "cell_type": "code",
   "execution_count": 11,
   "metadata": {},
   "outputs": [
    {
     "data": {
      "text/plain": [
       "['2012-03-31',\n",
       " '2011-08-27',\n",
       " '2012-05-05',\n",
       " '2011-12-17',\n",
       " '2011-12-03',\n",
       " '2011-08-06',\n",
       " '2011-11-26',\n",
       " '2011-11-05',\n",
       " '2011-12-10',\n",
       " '2011-09-11',\n",
       " '2012-02-19',\n",
       " '2011-08-19']"
      ]
     },
     "execution_count": 11,
     "metadata": {},
     "output_type": "execute_result"
    }
   ],
   "source": [
    "team_rain_games = {}\n",
    "for team in team_names:\n",
    "    rain_games = []\n",
    "    team_dates = []\n",
    "    c.execute(\"\"\"select date \n",
    "                 from matches\n",
    "                 where season = '2011' and (HomeTeam = \"{}\" or AwayTeam = \"{}\")\"\"\".format(team, team))\n",
    "    matches = c.fetchall()\n",
    "    for match in matches:\n",
    "        team_dates.append(match[0])\n",
    "    for date in rain_dates:\n",
    "        if date in team_dates:\n",
    "            rain_games.append(date)\n",
    "    team_rain_games[team] = rain_games\n",
    "team_rain_games['Wolfsburg']"
   ]
  },
  {
   "cell_type": "code",
   "execution_count": 12,
   "metadata": {},
   "outputs": [
    {
     "data": {
      "text/plain": [
       "['2011-09-11', '2011-12-17', '2011-08-06', '2012-03-31']"
      ]
     },
     "execution_count": 12,
     "metadata": {},
     "output_type": "execute_result"
    }
   ],
   "source": [
    "team_rain_wins = {}\n",
    "for team in team_names:\n",
    "    rain_wins = []\n",
    "    for date in team_wins[team]:\n",
    "        if date in team_rain_games[team]:\n",
    "            rain_wins.append(date)\n",
    "    team_rain_wins[team] = rain_wins\n",
    "team_rain_wins['Wolfsburg']"
   ]
  },
  {
   "cell_type": "code",
   "execution_count": 13,
   "metadata": {},
   "outputs": [
    {
     "data": {
      "text/plain": [
       "0.333"
      ]
     },
     "execution_count": 13,
     "metadata": {},
     "output_type": "execute_result"
    }
   ],
   "source": [
    "rain_win_per = {}\n",
    "for team in team_names:\n",
    "    if team_rain_games[team] == []:\n",
    "        rain_win_per[team] = np.nan\n",
    "    else:\n",
    "        rain_win_per[team] = round(len(team_rain_wins[team])/len(team_rain_games[team]), 3)\n",
    "rain_win_per['Wolfsburg']"
   ]
  },
  {
   "cell_type": "markdown",
   "metadata": {},
   "source": [
    "## Compile Name, Goals, Wins, and Rain Win Percentage into a Dictionary, then Insert into MongoDB"
   ]
  },
  {
   "cell_type": "code",
   "execution_count": 14,
   "metadata": {},
   "outputs": [
    {
     "data": {
      "text/plain": [
       "['Wolfsburg', 47, 13, 0.333]"
      ]
     },
     "execution_count": 14,
     "metadata": {},
     "output_type": "execute_result"
    }
   ],
   "source": [
    "data = {}\n",
    "for team in team_names:\n",
    "    data[team] = [team, team_goals[team], len(team_wins[team]), rain_win_per[team]]\n",
    "data['Wolfsburg']"
   ]
  },
  {
   "cell_type": "code",
   "execution_count": 15,
   "metadata": {},
   "outputs": [],
   "source": [
    "import _pickle\n",
    "from bson.binary import Binary\n",
    "class MongoHandler():\n",
    "    def __init__(self):\n",
    "        self.myclient = pymongo.MongoClient(\"mongodb://127.0.0.1:27017\")\n",
    "        self.mydb = self.myclient['Module2_lab']\n",
    "        self.mycollection = self.mydb['Football']\n",
    "        \n",
    "    def Mongo_insert(self, team, fig):\n",
    "        to_insert = {'Name': data[team][0],\n",
    "                     'Goals_2011': data[team][1],\n",
    "                     'Wins_2011': data[team][2],\n",
    "                     'Wins_vs_losses_2011': Binary(_pickle.dumps(fig, protocol=2)),\n",
    "                     'Rain_game_win_%_2011': data[team][3]}\n",
    "        return self.mycollection.insert_one(to_insert)"
   ]
  },
  {
   "cell_type": "code",
   "execution_count": 16,
   "metadata": {
    "scrolled": true
   },
   "outputs": [
    {
     "data": {
      "text/plain": [
       "<Figure size 432x288 with 0 Axes>"
      ]
     },
     "metadata": {},
     "output_type": "display_data"
    }
   ],
   "source": [
    "mh = MongoHandler()\n",
    "for team in team_names:\n",
    "    fig = get_hist(team)\n",
    "    mh.Mongo_insert(team, fig)\n",
    "    plt.clf()"
   ]
  },
  {
   "cell_type": "markdown",
   "metadata": {},
   "source": [
    "# Summary\n",
    "\n",
    "In this lab, we dug deep and used everything we've learned so far about python programming, databases, HTTP requests and API calls to ETL data from a SQL database into a MongoDB instance!"
   ]
  }
 ],
 "metadata": {
  "kernelspec": {
   "display_name": "Python 3",
   "language": "python",
   "name": "python3"
  },
  "language_info": {
   "codemirror_mode": {
    "name": "ipython",
    "version": 3
   },
   "file_extension": ".py",
   "mimetype": "text/x-python",
   "name": "python",
   "nbconvert_exporter": "python",
   "pygments_lexer": "ipython3",
   "version": "3.7.3"
  }
 },
 "nbformat": 4,
 "nbformat_minor": 2
}
